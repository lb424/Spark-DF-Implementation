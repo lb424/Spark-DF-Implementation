{
  "nbformat": 4,
  "nbformat_minor": 0,
  "metadata": {
    "colab": {
      "provenance": [],
      "include_colab_link": true
    },
    "kernelspec": {
      "name": "python3",
      "display_name": "Python 3"
    },
    "language_info": {
      "name": "python"
    }
  },
  "cells": [
    {
      "cell_type": "markdown",
      "metadata": {
        "id": "view-in-github",
        "colab_type": "text"
      },
      "source": [
        "<a href=\"https://colab.research.google.com/github/lb424/Spark-DF-Implementation/blob/main/Spark-Implementation.ipynb\" target=\"_parent\"><img src=\"https://colab.research.google.com/assets/colab-badge.svg\" alt=\"Open In Colab\"/></a>"
      ]
    },
    {
      "cell_type": "markdown",
      "source": [
        "*Requires data sets to be located at a certain directory in google drive:"
      ],
      "metadata": {
        "id": "fsmpn-WizBmH"
      }
    },
    {
      "cell_type": "code",
      "source": [
        "!apt-get install openjdk-8-jdk-headless -qq > /dev/null\n",
        "!pip install pyspark\n",
        "\n",
        "from pyspark.sql import SparkSession\n",
        "from pyspark.sql.functions import avg, col, udf, broadcast, concat_ws\n",
        "from pyspark.sql.types import DoubleType, StringType, FloatType\n",
        "from google.colab import drive\n",
        "\n",
        "spark = SparkSession.builder.appName(\"A4\").getOrCreate()\n",
        "\n",
        "drive.mount('/content/drive')\n",
        "\n",
        "temperature_df = spark.read.options(header='true', inferSchema='true').csv('/content/drive/MyDrive/colab_inputs/A4/city_temperature.csv')\n",
        "country_list_df = spark.read.options(header='true', inferSchema='true').csv('/content/drive/MyDrive/colab_inputs/A4/country-list.csv')\n"
      ],
      "metadata": {
        "id": "Ln1mxQY0vudI",
        "colab": {
          "base_uri": "https://localhost:8080/"
        },
        "outputId": "53dc0f35-884c-42e2-db53-713e67fbfd59"
      },
      "execution_count": null,
      "outputs": [
        {
          "output_type": "stream",
          "name": "stdout",
          "text": [
            "Requirement already satisfied: pyspark in /usr/local/lib/python3.10/dist-packages (3.5.3)\n",
            "Requirement already satisfied: py4j==0.10.9.7 in /usr/local/lib/python3.10/dist-packages (from pyspark) (0.10.9.7)\n",
            "Drive already mounted at /content/drive; to attempt to forcibly remount, call drive.mount(\"/content/drive\", force_remount=True).\n"
          ]
        }
      ]
    },
    {
      "cell_type": "markdown",
      "source": [
        "Task A - Find the average of AvgTemperature for each Region"
      ],
      "metadata": {
        "id": "LvDKXLIERanv"
      }
    },
    {
      "cell_type": "code",
      "source": [
        "task_a = temperature_df.groupBy(\"Region\").agg(avg(\"AvgTemperature\").alias(\"AverageTemperature\"))\n",
        "task_a.show()\n",
        "\n",
        "result_a = task_a.select(concat_ws(\", \", task_a.Region, task_a.AverageTemperature.cast(\"string\")).alias(\"output\"))\n",
        "result_a.coalesce(1).write.mode(\"overwrite\").format(\"text\").save(\"/content/drive/MyDrive/colab_outputs/A4/result_a\")"
      ],
      "metadata": {
        "id": "wttQLwPRiLPW",
        "colab": {
          "base_uri": "https://localhost:8080/"
        },
        "outputId": "0e199a47-86fc-4135-b325-b4a1e7f7ffd9"
      },
      "execution_count": null,
      "outputs": [
        {
          "output_type": "stream",
          "name": "stdout",
          "text": [
            "+--------------------+------------------+\n",
            "|              Region|AverageTemperature|\n",
            "+--------------------+------------------+\n",
            "|              Europe| 46.69628524306878|\n",
            "|              Africa| 53.54951656193528|\n",
            "|       North America|55.300932625245395|\n",
            "|         Middle East|  68.3845217196125|\n",
            "|South/Central Ame...|62.189438801074665|\n",
            "|                Asia| 62.56864868961511|\n",
            "|Australia/South P...|61.180869127275976|\n",
            "+--------------------+------------------+\n",
            "\n"
          ]
        }
      ]
    },
    {
      "cell_type": "markdown",
      "source": [
        "Task B - Find the average of AvgTemperature by Year for countries only located in the “Europe” Region."
      ],
      "metadata": {
        "id": "iRdjHC99Rq00"
      }
    },
    {
      "cell_type": "code",
      "source": [
        "task_b = temperature_df.filter(temperature_df.Region == \"Europe\").groupBy(\"Year\").agg(avg(\"AvgTemperature\").alias(\"AverageTemperature\"))\n",
        "task_b.show()\n",
        "\n",
        "result_b = task_b.select(concat_ws(\", \", task_b.Year, task_b.AverageTemperature.cast(\"string\")).alias(\"output\"))\n",
        "result_b.coalesce(1).write.mode(\"overwrite\").format(\"text\").save(\"/content/drive/MyDrive/colab_outputs/A4/result_b\")"
      ],
      "metadata": {
        "collapsed": true,
        "id": "ech4L1fVjEwi",
        "colab": {
          "base_uri": "https://localhost:8080/"
        },
        "outputId": "3079c97c-b47f-46aa-d920-1f3f18b2bd5c"
      },
      "execution_count": null,
      "outputs": [
        {
          "output_type": "stream",
          "name": "stdout",
          "text": [
            "+----+------------------+\n",
            "|Year|AverageTemperature|\n",
            "+----+------------------+\n",
            "|2003| 43.50427513880328|\n",
            "|2007| 50.78712918660323|\n",
            "|2018| 50.20741891208571|\n",
            "|2015| 51.77580680895058|\n",
            "|2006|48.090954307314625|\n",
            "|2013| 51.17017400962613|\n",
            "|1997|  41.2918051750382|\n",
            "|2014| 52.33811181044038|\n",
            "|2019| 49.60529547753217|\n",
            "|2004| 47.62057117070647|\n",
            "|1996| 36.53758955676995|\n",
            "|1998| 40.93638356164395|\n",
            "|2020| 44.80030272452078|\n",
            "|2012| 49.11577509347122|\n",
            "|2009| 49.92103821394317|\n",
            "|2016|50.392416186678325|\n",
            "|1995| 38.63447394057469|\n",
            "| 200|             -99.0|\n",
            "|2001|44.922228310502405|\n",
            "|2005| 48.85939986953682|\n",
            "+----+------------------+\n",
            "only showing top 20 rows\n",
            "\n"
          ]
        }
      ]
    },
    {
      "cell_type": "markdown",
      "source": [
        "Task C - Find the average of AvgTemperature by City only located in the Country “Jordan”."
      ],
      "metadata": {
        "id": "QRQWVP7eR108"
      }
    },
    {
      "cell_type": "code",
      "source": [
        "task_c = temperature_df.filter(temperature_df.Country == \"Jordan\").groupBy(\"City\").agg(avg(\"AvgTemperature\").alias(\"AverageTemperature\"))\n",
        "task_c.show()\n",
        "\n",
        "result_c = task_c.select(concat_ws(\", \", task_c.City, task_c.AverageTemperature.cast(\"string\")).alias(\"output\"))\n",
        "result_c.coalesce(1).write.mode(\"overwrite\").format(\"text\").save(\"/content/drive/MyDrive/colab_outputs/A4/result_c\")"
      ],
      "metadata": {
        "colab": {
          "base_uri": "https://localhost:8080/"
        },
        "id": "025f2jHvW5nv",
        "outputId": "8feb612b-5a1d-42bf-a82d-2db4eaad7de7"
      },
      "execution_count": null,
      "outputs": [
        {
          "output_type": "stream",
          "name": "stdout",
          "text": [
            "+-----+------------------+\n",
            "| City|AverageTemperature|\n",
            "+-----+------------------+\n",
            "|Amman| 64.16010144614734|\n",
            "+-----+------------------+\n",
            "\n"
          ]
        }
      ]
    },
    {
      "cell_type": "markdown",
      "source": [
        "Task D - For each country, find the capital and average of AvgTemperature of that capital city."
      ],
      "metadata": {
        "id": "pFCYXsT2R2Ry"
      }
    },
    {
      "cell_type": "code",
      "source": [
        "task_d = temperature_df.join(country_list_df, (temperature_df.City == country_list_df.capital) & (temperature_df.Country == country_list_df.country), \"inner\").groupBy(\"capital\", temperature_df.Country).agg(avg(\"AvgTemperature\").alias(\"AverageTemperature\"))\n",
        "task_d.show()\n",
        "\n",
        "result_d = task_d.select(concat_ws(\", \", task_d.capital, task_d.Country, task_d.AverageTemperature.cast(\"string\")).alias(\"output\"))\n",
        "result_d.coalesce(1).write.mode(\"overwrite\").format(\"text\").save(\"/content/drive/MyDrive/colab_outputs/A4/result_d\")"
      ],
      "metadata": {
        "colab": {
          "base_uri": "https://localhost:8080/"
        },
        "id": "_lwPvTfcW5_g",
        "outputId": "cb276c3e-e1a2-41ae-d45e-9313d8c98f42"
      },
      "execution_count": null,
      "outputs": [
        {
          "output_type": "stream",
          "name": "stdout",
          "text": [
            "+-------------+--------------------+------------------+\n",
            "|      capital|             Country|AverageTemperature|\n",
            "+-------------+--------------------+------------------+\n",
            "|       Zagreb|             Croatia|46.928613059902794|\n",
            "|       Manama|             Bahrain| 80.63559248866856|\n",
            "|    Abu Dhabi|United Arab Emirates| 82.19249946039282|\n",
            "|  Addis Ababa|            Ethiopia| 25.45525551371705|\n",
            "|      Bishkek|          Kyrgyzstan| 51.37300000000035|\n",
            "|       Skopje|           Macedonia| 54.00780356179161|\n",
            "|    Bujumbura|             Burundi|-65.39713845476541|\n",
            "|     Helsinki|             Finland| 42.24399956831414|\n",
            "|      Algiers|             Algeria|63.755439240232846|\n",
            "|      Bangkok|            Thailand| 72.46408588158758|\n",
            "|     Damascus|               Syria| 62.80611980572022|\n",
            "|         Bern|         Switzerland|  49.0322793006693|\n",
            "|        Cairo|               Egypt| 71.95347507014904|\n",
            "|     Windhoek|             Namibia|57.990341031729066|\n",
            "|        Rabat|             Morocco|  62.7334556442909|\n",
            "|        Paris|              France| 52.94068638031512|\n",
            "|        Hanoi|             Vietnam|  74.7373192315993|\n",
            "|        Tunis|             Tunisia| 66.47864234837016|\n",
            "|        Amman|              Jordan| 64.16010144614734|\n",
            "|Santo Domingo|  Dominican Republic| 65.21575822989762|\n",
            "+-------------+--------------------+------------------+\n",
            "only showing top 20 rows\n",
            "\n"
          ]
        }
      ]
    },
    {
      "cell_type": "markdown",
      "source": [
        "Task E - Solve the question 1D using a broadcast variable."
      ],
      "metadata": {
        "id": "z_65dW8eR2kR"
      }
    },
    {
      "cell_type": "code",
      "source": [
        "broadcast = broadcast(country_list_df)\n",
        "\n",
        "task_e = temperature_df.join(broadcast, (temperature_df.City == broadcast.capital) & (temperature_df.Country == broadcast.country), \"inner\").groupBy(\"capital\", temperature_df.Country).agg(avg(\"AvgTemperature\").alias(\"AverageTemperature\"))\n",
        "task_e.show()\n",
        "\n",
        "result_e = task_e.select(concat_ws(\", \", task_e.capital, task_e.Country, task_e.AverageTemperature.cast(\"string\")).alias(\"output\"))\n",
        "result_e.coalesce(1).write.mode(\"overwrite\").format(\"text\").save(\"/content/drive/MyDrive/colab_outputs/A4/result_e\")"
      ],
      "metadata": {
        "colab": {
          "base_uri": "https://localhost:8080/"
        },
        "id": "As1EeCSYW6bI",
        "outputId": "977445ae-763f-4e1e-c9cb-fcdcd82aaf4d"
      },
      "execution_count": null,
      "outputs": [
        {
          "output_type": "stream",
          "name": "stdout",
          "text": [
            "+-------------+--------------------+------------------+\n",
            "|      capital|             Country|AverageTemperature|\n",
            "+-------------+--------------------+------------------+\n",
            "|       Zagreb|             Croatia|46.928613059902794|\n",
            "|       Manama|             Bahrain| 80.63559248866856|\n",
            "|    Abu Dhabi|United Arab Emirates| 82.19249946039282|\n",
            "|  Addis Ababa|            Ethiopia| 25.45525551371705|\n",
            "|      Bishkek|          Kyrgyzstan| 51.37300000000035|\n",
            "|       Skopje|           Macedonia| 54.00780356179161|\n",
            "|    Bujumbura|             Burundi|-65.39713845476541|\n",
            "|     Helsinki|             Finland| 42.24399956831414|\n",
            "|      Algiers|             Algeria|63.755439240232846|\n",
            "|      Bangkok|            Thailand| 72.46408588158758|\n",
            "|     Damascus|               Syria| 62.80611980572022|\n",
            "|         Bern|         Switzerland|  49.0322793006693|\n",
            "|        Cairo|               Egypt| 71.95347507014904|\n",
            "|     Windhoek|             Namibia|57.990341031729066|\n",
            "|        Rabat|             Morocco|  62.7334556442909|\n",
            "|        Paris|              France| 52.94068638031512|\n",
            "|        Hanoi|             Vietnam|  74.7373192315993|\n",
            "|        Tunis|             Tunisia| 66.47864234837016|\n",
            "|        Amman|              Jordan| 64.16010144614734|\n",
            "|Santo Domingo|  Dominican Republic| 65.21575822989762|\n",
            "+-------------+--------------------+------------------+\n",
            "only showing top 20 rows\n",
            "\n"
          ]
        }
      ]
    },
    {
      "cell_type": "markdown",
      "source": [
        "Task F - Solve the question 1D. While solving this question, please utilize the User Defined Function (UDF) to do the following tasks:"
      ],
      "metadata": {
        "id": "hcuLXX_3SHwl"
      }
    },
    {
      "cell_type": "code",
      "source": [
        "from pyspark.sql.types import BooleanType\n",
        "@udf(BooleanType())\n",
        "def filter_years(year):\n",
        "    return year >= 2010\n",
        "\n",
        "@udf(StringType())\n",
        "def format_output(capital, country, avg_temp):\n",
        "    return f\"{capital} is the capital of {country} and its average temperature is {avg_temp:.2f}\"\n",
        "\n",
        "task_e = temperature_df.join(country_list_df,(temperature_df.City == country_list_df.capital) & (temperature_df.Country == country_list_df.country), \"inner\").filter(filter_years(temperature_df.Year)).groupBy(\"capital\", temperature_df.Country).agg(avg(\"AvgTemperature\").alias(\"AverageTemperature\")).withColumn(\"output\", format_output(col(\"capital\"), col(\"country\"), col(\"AverageTemperature\")))\n",
        "task_e.select(\"output\").show(truncate=False)\n",
        "\n",
        "task_e.select(\"output\").coalesce(1).write.mode(\"overwrite\").format(\"text\").save(\"/content/drive/MyDrive/colab_outputs/A4/result_f\")\n"
      ],
      "metadata": {
        "colab": {
          "base_uri": "https://localhost:8080/"
        },
        "id": "NivyJOOFlSG2",
        "outputId": "b9253506-1942-4bc0-a407-852987d61bac"
      },
      "execution_count": null,
      "outputs": [
        {
          "output_type": "stream",
          "name": "stdout",
          "text": [
            "+---------------------------------------------------------------------------------------+\n",
            "|output                                                                                 |\n",
            "+---------------------------------------------------------------------------------------+\n",
            "|Zagreb is the capital of Croatia and its average temperature is 54.23                  |\n",
            "|Manama is the capital of Bahrain and its average temperature is 81.08                  |\n",
            "|Abu Dhabi is the capital of United Arab Emirates and its average temperature is 82.61  |\n",
            "|Addis Ababa is the capital of Ethiopia and its average temperature is 50.38            |\n",
            "|Bishkek is the capital of Kyrgyzstan and its average temperature is 52.57              |\n",
            "|Skopje is the capital of Macedonia and its average temperature is 54.25                |\n",
            "|Helsinki is the capital of Finland and its average temperature is 42.33                |\n",
            "|Algiers is the capital of Algeria and its average temperature is 63.74                 |\n",
            "|Bangkok is the capital of Thailand and its average temperature is 82.99                |\n",
            "|Damascus is the capital of Syria and its average temperature is 62.57                  |\n",
            "|Bern is the capital of Switzerland and its average temperature is 48.67                |\n",
            "|Cairo is the capital of Egypt and its average temperature is 72.42                     |\n",
            "|Windhoek is the capital of Namibia and its average temperature is 62.63                |\n",
            "|Rabat is the capital of Morocco and its average temperature is 62.43                   |\n",
            "|Paris is the capital of France and its average temperature is 52.15                    |\n",
            "|Hanoi is the capital of Vietnam and its average temperature is 74.75                   |\n",
            "|Tunis is the capital of Tunisia and its average temperature is 66.37                   |\n",
            "|Amman is the capital of Jordan and its average temperature is 64.43                    |\n",
            "|Santo Domingo is the capital of Dominican Republic and its average temperature is 67.67|\n",
            "|Guatemala City is the capital of Guatemala and its average temperature is 66.03        |\n",
            "+---------------------------------------------------------------------------------------+\n",
            "only showing top 20 rows\n",
            "\n"
          ]
        }
      ]
    }
  ]
}